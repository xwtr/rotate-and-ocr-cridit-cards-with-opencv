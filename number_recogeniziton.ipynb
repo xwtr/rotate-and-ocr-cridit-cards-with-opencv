{
 "cells": [
  {
   "cell_type": "code",
   "execution_count": 20,
   "metadata": {},
   "outputs": [],
   "source": [
    "from imutils import contours\n",
    "import cv2\n",
    "import numpy as np\n",
    "import keras\n",
    "import os, shutil\n",
    "import imutils\n",
    "import sys\n",
    "import argparse"
   ]
  },
  {
   "cell_type": "code",
   "execution_count": 36,
   "metadata": {},
   "outputs": [],
   "source": [
    "cropped_dataset_dir=\"./cropped_image/\"\n",
    "original_dataset_dir=\"./img/\"\n",
    "ocr_image=\"./ocr_a_reference.png\""
   ]
  },
  {
   "cell_type": "code",
   "execution_count": 22,
   "metadata": {},
   "outputs": [],
   "source": [
    "image_name_list=os.listdir(original_dataset_dir)"
   ]
  },
  {
   "cell_type": "code",
   "execution_count": 23,
   "metadata": {},
   "outputs": [],
   "source": [
    "def find_rotated_rect(colorimg):\n",
    "    img=cv2.cvtColor(colorimg,cv2.COLOR_BGR2GRAY)\n",
    "    canny = cv2.Canny(img, 45, 133)\n",
    "    kernel = np.ones((5,5), np.uint8)\n",
    "    closing = cv2.morphologyEx(canny, cv2.MORPH_CLOSE, kernel)\n",
    "    contours,hierarchy = cv2.findContours(closing, 1, 2)\n",
    "    cnt=find_largest_erea(contours)\n",
    "    rect = cv2.minAreaRect(cnt)\n",
    "    box = cv2.boxPoints(rect)\n",
    "    box = np.int0(box)\n",
    "    return box,rect"
   ]
  },
  {
   "cell_type": "code",
   "execution_count": 24,
   "metadata": {},
   "outputs": [],
   "source": [
    "def find_largest_erea(contours):\n",
    "    largest_eara=0\n",
    "    largest_eara_index=0\n",
    "    for cnt in contours:\n",
    "        if cv2.contourArea(cnt)>largest_eara:\n",
    "            largest_eara=cv2.contourArea(cnt)\n",
    "            largest_eara_contours=cnt\n",
    "            \n",
    "    return largest_eara_contours"
   ]
  },
  {
   "cell_type": "code",
   "execution_count": 25,
   "metadata": {},
   "outputs": [],
   "source": [
    "def draw_straight_regtangle(original_image):\n",
    "    gray_img=cv2.cvtColor(colorimg,cv2.COLOR_BGR2GRAY)\n",
    "    canny = cv2.Canny(gray_img, 45, 133)\n",
    "    kernel = np.ones((5,5), np.uint8)\n",
    "    closing = cv2.morphologyEx(canny, cv2.MORPH_CLOSE, kernel)\n",
    "    (contours,_) = cv2.findContours(closing, cv2.RETR_EXTERNAL, cv2.CHAIN_APPROX_NONE)\n",
    "    cnt=find_largest_erea(contours)\n",
    "    (x,y,w,h) = cv2.boundingRect(cnt)\n",
    "    cv2.rectangle(original_image,(x,y),(x+w,y+h)   ,(255,0,0), 2)\n",
    "    return (x,y,w,h)"
   ]
  },
  {
   "cell_type": "code",
   "execution_count": 26,
   "metadata": {},
   "outputs": [],
   "source": [
    "def find_red_regtangle(image):\n",
    "    B, G, R = cv2.split(image)\n",
    "    ret,thresh = cv2.threshold(R, 245, 255, cv2.THRESH_BINARY)\n",
    "    kernel = np.ones((5,5), np.uint8)\n",
    "    closing = cv2.morphologyEx(thresh, cv2.MORPH_CLOSE, kernel)\n",
    "    (contours,_) = cv2.findContours(closing, 1, 2)\n",
    "    cnt=find_largest_erea(contours)\n",
    "    (x,y,w,h) = cv2.boundingRect(cnt)\n",
    "    cv2.rectangle(image,(x,y),(x+w,y+h)   ,(255,0,0), 2)\n",
    "    return (x,y,w,h)"
   ]
  },
  {
   "cell_type": "code",
   "execution_count": 39,
   "metadata": {},
   "outputs": [],
   "source": [
    "def crop_rotate_image(colorimg):\n",
    "   \n",
    "    \n",
    "    colorimg= cv2.resize(colorimg, None, fx=0.25, fy=0.25)\n",
    "    box,rect=find_rotated_rect(colorimg)\n",
    "    colorimg = cv2.drawContours(colorimg,[box],0,(0,0,255),3)\n",
    "    height, width = colorimg.shape[:2]\n",
    "    if(rect[1][0]>rect[1][1]):\n",
    "#         print(count_angle(box[0],box[1]))\n",
    "        rotated = imutils.rotate_bound(colorimg,  np.int_(count_angle(box[0],box[1])))\n",
    "    else:\n",
    "        rotated = imutils.rotate_bound(colorimg, np.int_(count_angle(box[0],box[1])-90))\n",
    "    (x,y,w,h)=find_red_regtangle(rotated)\n",
    "    cropped=rotated[y:y+h,x:x+w]\n",
    "#     cv2.imwrite(cropped_image+image_name,cropped)\n",
    "    return cropped"
   ]
  },
  {
   "cell_type": "code",
   "execution_count": null,
   "metadata": {},
   "outputs": [],
   "source": []
  },
  {
   "cell_type": "code",
   "execution_count": 40,
   "metadata": {},
   "outputs": [],
   "source": [
    "def count_angle(a,b):\n",
    "    a=np.array(a)\n",
    "    b=np.array(b)\n",
    "    c=np.array([a[0],b[1]])\n",
    "    ab=b-a\n",
    "    ac=c-a\n",
    "    cosine_angle=np.dot(ab,ac)/(np.linalg.norm(ab)*np.linalg.norm(ac))\n",
    "    angle=np.arccos(cosine_angle)\n",
    "    return np.degrees(angle)"
   ]
  },
  {
   "cell_type": "code",
   "execution_count": 41,
   "metadata": {},
   "outputs": [],
   "source": [
    "ref = cv2.imread(ocr_image)\n",
    "ref = cv2.cvtColor(ref, cv2.COLOR_BGR2GRAY)\n",
    "ref = cv2.threshold(ref, 70, 255, cv2.THRESH_BINARY_INV)[1]"
   ]
  },
  {
   "cell_type": "code",
   "execution_count": 42,
   "metadata": {},
   "outputs": [],
   "source": [
    "refCnts = cv2.findContours(ref.copy(), cv2.RETR_EXTERNAL,\n",
    "cv2.CHAIN_APPROX_SIMPLE)\n",
    "refCnts = imutils.grab_contours(refCnts)\n",
    "refCnts = contours.sort_contours(refCnts, method=\"left-to-right\")[0]\n",
    "digits = {}\n"
   ]
  },
  {
   "cell_type": "code",
   "execution_count": 43,
   "metadata": {},
   "outputs": [],
   "source": [
    "for (i, c) in enumerate(refCnts):\n",
    "    (x, y, w, h) = cv2.boundingRect(c)\n",
    "    roi = ref[y:y + h, x:x + w]\n",
    "    roi = cv2.resize(roi, (57, 88))\n",
    "    digits[i] = roi"
   ]
  },
  {
   "cell_type": "code",
   "execution_count": 44,
   "metadata": {},
   "outputs": [],
   "source": [
    "sqKernel = cv2.getStructuringElement(cv2.MORPH_RECT, (5, 5))\n",
    "rectKernel = cv2.getStructuringElement(cv2.MORPH_RECT, (4 , 3))\n",
    "\n"
   ]
  },
  {
   "cell_type": "code",
   "execution_count": 45,
   "metadata": {},
   "outputs": [],
   "source": [
    "def recogenize_card_number(image):\n",
    "    image = imutils.resize(image, width=300)\n",
    "    gray = cv2.cvtColor(image, cv2.COLOR_BGR2GRAY)\n",
    "    gray=(255-gray)\n",
    "    tophat = cv2.morphologyEx(gray, cv2.MORPH_TOPHAT, \n",
    "                              rectKernel)\n",
    "    gradX = cv2.Sobel(tophat, ddepth=cv2.CV_32F, dx=1, dy=0,ksize=-1)\n",
    "    gradX = np.absolute(gradX)\n",
    "    (minVal, maxVal) = (np.min(gradX), np.max(gradX))\n",
    "    gradX = (255 * ((gradX - minVal) / (maxVal - minVal)))\n",
    "    gradX = gradX.astype(\"uint8\")\n",
    "    gradX = cv2.morphologyEx(gradX, cv2.MORPH_CLOSE, rectKernel)\n",
    "    thresh = cv2.threshold(gradX, 0, 255,cv2.THRESH_BINARY | cv2.THRESH_OTSU)[1]\n",
    "    thresh = cv2.morphologyEx(thresh, cv2.MORPH_CLOSE, sqKernel)\n",
    "    cnts = cv2.findContours(thresh.copy(), cv2.RETR_EXTERNAL,\n",
    "                      \n",
    "                            cv2.CHAIN_APPROX_SIMPLE)\n",
    "    cnts = imutils.grab_contours(cnts)\n",
    "    locs = []\n",
    "    for (i, c) in enumerate(cnts):\n",
    "        (x, y, w, h) = cv2.boundingRect(c)\n",
    "        ar = w / float(h)\n",
    "        if ar > 2.5 and ar < 4.0:\n",
    "            if (w > 40 and w < 55) and (h > 10 and h < 20):\n",
    "                locs.append((x, y, w, h))\n",
    "    locs = sorted(locs, key=lambda x:x[0])\n",
    "    output = []\n",
    "    for (i, (gX, gY, gW, gH)) in enumerate(locs):\n",
    "        # initialize the list of group digits\n",
    "        groupOutput = []\n",
    "        group = gray[gY - 5:gY + gH + 5, gX - 5:gX + gW + 5]\n",
    "        group = cv2.threshold(group, 0, 255,\n",
    "            cv2.THRESH_BINARY | cv2.THRESH_OTSU)[1]  \n",
    "#         cv2.imshow(\"group\",group)\n",
    "#         cv2.waitKey(0)\n",
    "        digitCnts = cv2.findContours(group.copy(), cv2.RETR_EXTERNAL,cv2.CHAIN_APPROX_SIMPLE)\n",
    "        digitCnts = imutils.grab_contours(digitCnts)\n",
    "        digitCnts = contours.sort_contours(digitCnts,method=\"left-to-right\")[0]\n",
    "        for c in digitCnts:\n",
    "            (x, y, w, h) = cv2.boundingRect(c)\n",
    "            roi = group[y:y + h, x:x + w]\n",
    "            roi = cv2.resize(roi, (57, 88))\n",
    "            scores = []\n",
    "            for (digit, digitROI) in digits.items():\n",
    "                result = cv2.matchTemplate(roi, digitROI,\n",
    "                    cv2.TM_CCOEFF)\n",
    "                (_, score, _, _) = cv2.minMaxLoc(result)\n",
    "                scores.append(score)\n",
    "            groupOutput.append(str(np.argmax(scores)))\n",
    "        cv2.rectangle(image, (gX - 5, gY - 5),\n",
    "            (gX + gW + 5, gY + gH + 5), (0, 0, 255), 2)\n",
    "        cv2.putText(image, \"\".join(groupOutput), (gX, gY - 15),\n",
    "            cv2.FONT_HERSHEY_SIMPLEX, 0.65, (0, 0, 255), 2)\n",
    "        output.extend(groupOutput)\n",
    "        print(\"Credit Card #: {}\".format(\"\".join(output)))\n",
    "    return image"
   ]
  },
  {
   "cell_type": "code",
   "execution_count": 47,
   "metadata": {},
   "outputs": [
    {
     "name": "stderr",
     "output_type": "stream",
     "text": [
      "/home/yumi/.local/lib/python3.7/site-packages/ipykernel_launcher.py:7: RuntimeWarning: invalid value encountered in true_divide\n",
      "  import sys\n"
     ]
    }
   ],
   "source": [
    "image_name_list=os.listdir(original_dataset_dir)\n",
    "for i in range(0,len(image_name_list),20):\n",
    "    image = cv2.imread(original_dataset_dir+image_name_list[i])\n",
    "    cropped=crop_rotate_image(image)\n",
    "    cv2.imwrite(cropped_dataset_dir+image_name_list[i],cropped)\n",
    "image_name_list=os.listdir(cropped_dataset_dir)\n",
    "for i in range(len(image_name_list),20):\n",
    "    cropped=cv2.imread(cropped_dataset_dir+image_name_list[i])\n",
    "    image=recogenize_card_number(cropped)\n",
    "    cv2.imshow(\"Image\", image)\n",
    "    cv2.waitKey(0)\n",
    "    cv2.destroyAllWindows()"
   ]
  },
  {
   "cell_type": "code",
   "execution_count": 35,
   "metadata": {},
   "outputs": [],
   "source": [
    "cv2.destroyAllWindows()\n",
    "\n",
    "\n",
    "\n",
    "\n",
    "\n",
    "\n",
    "\n",
    "\n",
    "\n",
    "\n",
    "\n",
    "\n",
    "\n",
    "\n",
    "\n",
    "\n",
    "\n"
   ]
  },
  {
   "cell_type": "code",
   "execution_count": null,
   "metadata": {},
   "outputs": [],
   "source": [
    "\n",
    "\n",
    "\n",
    "\n",
    "\n",
    "\n",
    "\n",
    "\n",
    "\n",
    "\n",
    "\n",
    "\n",
    "\n",
    "\n"
   ]
  },
  {
   "cell_type": "code",
   "execution_count": null,
   "metadata": {},
   "outputs": [],
   "source": []
  },
  {
   "cell_type": "code",
   "execution_count": null,
   "metadata": {},
   "outputs": [],
   "source": []
  },
  {
   "cell_type": "code",
   "execution_count": null,
   "metadata": {},
   "outputs": [],
   "source": [
    "# for i in range(len(image_name_list)):\n",
    "#     image = cv2.imread(original_dataset_dir+image_name_list[i])\n",
    "#     image = imutils.resize(image, width=300)\n",
    "#     gray = cv2.cvtColor(image, cv2.COLOR_BGR2GRAY)\n",
    "#     gray=(255-gray)\n",
    "#     tophat = cv2.morphologyEx(gray, cv2.MORPH_TOPHAT, \n",
    "#                               rectKernel)\n",
    "#     gradX = cv2.Sobel(tophat, ddepth=cv2.CV_32F, dx=1, dy=0,ksize=-1)\n",
    "#     gradX = np.absolute(gradX)\n",
    "#     (minVal, maxVal) = (np.min(gradX), np.max(gradX))\n",
    "#     gradX = (255 * ((gradX - minVal) / (maxVal - minVal)))\n",
    "#     gradX = gradX.astype(\"uint8\")\n",
    "#     gradX = cv2.morphologyEx(gradX, cv2.MORPH_CLOSE, rectKernel)\n",
    "#     thresh = cv2.threshold(gradX, 0, 255,cv2.THRESH_BINARY | cv2.THRESH_OTSU)[1]\n",
    "#     thresh = cv2.morphologyEx(thresh, cv2.MORPH_CLOSE, sqKernel)\n",
    "#     cnts = cv2.findContours(thresh.copy(), cv2.RETR_EXTERNAL,\n",
    "#                         cv2.CHAIN_APPROX_SIMPLE)\n",
    "#     cnts = imutils.grab_contours(cnts)\n",
    "#     locs = []\n",
    "#     for (i, c) in enumerate(cnts):\n",
    "#         (x, y, w, h) = cv2.boundingRect(c)\n",
    "#         ar = w / float(h)\n",
    "#         if ar > 2.5 and ar < 4.0:\n",
    "#             if (w > 40 and w < 55) and (h > 10 and h < 20):\n",
    "#                 locs.append((x, y, w, h))\n",
    "#     locs = sorted(locs, key=lambda x:x[0])\n",
    "#     output = []\n",
    "#     for (i, (gX, gY, gW, gH)) in enumerate(locs):\n",
    "#         # initialize the list of group digits\n",
    "#         groupOutput = []\n",
    "#         group = gray[gY - 5:gY + gH + 5, gX - 5:gX + gW + 5]\n",
    "#         group = cv2.threshold(group, 0, 255,\n",
    "#             cv2.THRESH_BINARY | cv2.THRESH_OTSU)[1]  \n",
    "#         digitCnts = cv2.findContours(group.copy(), cv2.RETR_EXTERNAL,cv2.CHAIN_APPROX_SIMPLE)\n",
    "#         digitCnts = imutils.grab_contours(digitCnts)\n",
    "#         digitCnts = contours.sort_contours(digitCnts,method=\"left-to-right\")[0]\n",
    "#         for c in digitCnts:\n",
    "#             (x, y, w, h) = cv2.boundingRect(c)\n",
    "#             roi = group[y:y + h, x:x + w]\n",
    "#             roi = cv2.resize(roi, (57, 88))\n",
    "#             scores = []\n",
    "#             for (digit, digitROI) in digits.items():\n",
    "#                 result = cv2.matchTemplate(roi, digitROI,\n",
    "#                     cv2.TM_CCOEFF)\n",
    "#                 (_, score, _, _) = cv2.minMaxLoc(result)\n",
    "#                 scores.append(score)\n",
    "#             groupOutput.append(str(np.argmax(scores)))\n",
    "#         cv2.rectangle(image, (gX - 5, gY - 5),\n",
    "#             (gX + gW + 5, gY + gH + 5), (0, 0, 255), 2)\n",
    "#         cv2.putText(image, \"\".join(groupOutput), (gX, gY - 15),\n",
    "#             cv2.FONT_HERSHEY_SIMPLEX, 0.65, (0, 0, 255), 2)\n",
    "#         output.extend(groupOutput)\n",
    "#         print(\"Credit Card #: {}\".format(\"\".join(output)))\n",
    "#     cv2.imshow(\"Image\", image)\n",
    "#     cv2.waitKey(0)\n"
   ]
  },
  {
   "cell_type": "code",
   "execution_count": null,
   "metadata": {},
   "outputs": [],
   "source": [
    "\n",
    "\n",
    "\n"
   ]
  }
 ],
 "metadata": {
  "kernelspec": {
   "display_name": "Python 3",
   "language": "python",
   "name": "python3"
  },
  "language_info": {
   "codemirror_mode": {
    "name": "ipython",
    "version": 3
   },
   "file_extension": ".py",
   "mimetype": "text/x-python",
   "name": "python",
   "nbconvert_exporter": "python",
   "pygments_lexer": "ipython3",
   "version": "3.7.3"
  }
 },
 "nbformat": 4,
 "nbformat_minor": 4
}
